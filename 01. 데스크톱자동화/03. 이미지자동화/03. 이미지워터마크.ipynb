{
 "cells": [
  {
   "cell_type": "code",
   "execution_count": 3,
   "metadata": {},
   "outputs": [
    {
     "data": {
      "text/plain": [
       "<PIL.ImageFont.FreeTypeFont at 0x1facfb43dc0>"
      ]
     },
     "execution_count": 3,
     "metadata": {},
     "output_type": "execute_result"
    }
   ],
   "source": [
    "from PIL import Image, ImageDraw, ImageFont\n",
    "\n",
    "#워터마크를 삽입할 이미지 \n",
    "img = Image.open('teemo.jpg')\n",
    "width = img.width\n",
    "height = img.height\n",
    "\n",
    "#그림판에 이미지를 붙여 넣는 느낌\n",
    "draw = ImageDraw.Draw(img)\n",
    "\n",
    "#입력할 문자\n",
    "text = 'ws'\n",
    "\n",
    "#문자의 폰트\n",
    "font = ImageFont.truetype('NotoSansKR-Regular.otf',50)\n"
   ]
  },
  {
   "cell_type": "code",
   "execution_count": 4,
   "metadata": {},
   "outputs": [
    {
     "name": "stderr",
     "output_type": "stream",
     "text": [
      "C:\\Users\\user\\AppData\\Local\\Temp\\ipykernel_3540\\2974080116.py:2: DeprecationWarning: textsize is deprecated and will be removed in Pillow 10 (2023-07-01). Use textbbox or textlength instead.\n",
      "  width_txt, height_txt = draw.textsize(text, font)\n"
     ]
    }
   ],
   "source": [
    "#문자의 높이 너비 가져오기\n",
    "width_txt, height_txt = draw.textsize(text, font)"
   ]
  },
  {
   "cell_type": "code",
   "execution_count": 13,
   "metadata": {},
   "outputs": [],
   "source": [
    "#워터마크 위치 설정\n",
    "margin = 50 \n",
    "x = width - width_txt - margin\n",
    "y = height - height_txt -margin\n",
    "\n",
    "#텍스트 넣기\n",
    "draw.text((x,y),text,fill='white',font=font)\n"
   ]
  },
  {
   "cell_type": "code",
   "execution_count": 14,
   "metadata": {},
   "outputs": [],
   "source": [
    "#이미지 저장\n",
    "img.save('teemo_워터마크.jpg')"
   ]
  },
  {
   "cell_type": "code",
   "execution_count": null,
   "metadata": {},
   "outputs": [],
   "source": []
  }
 ],
 "metadata": {
  "kernelspec": {
   "display_name": "base",
   "language": "python",
   "name": "python3"
  },
  "language_info": {
   "codemirror_mode": {
    "name": "ipython",
    "version": 3
   },
   "file_extension": ".py",
   "mimetype": "text/x-python",
   "name": "python",
   "nbconvert_exporter": "python",
   "pygments_lexer": "ipython3",
   "version": "3.9.13"
  },
  "orig_nbformat": 4,
  "vscode": {
   "interpreter": {
    "hash": "a077222d77dfe082b8f1dd562ad70e458ac2ab76993a0b248ab0476e32e9e8dd"
   }
  }
 },
 "nbformat": 4,
 "nbformat_minor": 2
}

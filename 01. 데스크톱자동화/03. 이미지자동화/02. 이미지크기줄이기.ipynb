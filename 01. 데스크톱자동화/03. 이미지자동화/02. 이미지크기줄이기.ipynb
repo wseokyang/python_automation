{
 "cells": [
  {
   "cell_type": "code",
   "execution_count": 60,
   "metadata": {},
   "outputs": [],
   "source": [
    "from PIL import Image\n",
    "import os\n",
    "import glob\n",
    "import math\n",
    "import shutil\n",
    "\n",
    "target_folder = 'C:\\\\Users\\\\user\\\\Downloads\\\\images'\n",
    "img_folder = os.path.join(target_folder, 'resized_images')\n",
    "\n",
    "if not os.path.exists(img_folder):\n",
    "    os.mkdir(img_folder)\n"
   ]
  },
  {
   "cell_type": "code",
   "execution_count": 79,
   "metadata": {},
   "outputs": [
    {
     "data": {
      "text/plain": [
       "'.jpg'"
      ]
     },
     "execution_count": 79,
     "metadata": {},
     "output_type": "execute_result"
    }
   ],
   "source": [
    "ext_list = ['jpg', 'png']\n",
    "img_list = []\n",
    "for ext in ext_list:\n",
    "    img_list.extend(glob.glob(f'{target_folder}/*.{ext}'))\n",
    "\n",
    "\n",
    "img_list[0][-4:]"
   ]
  },
  {
   "cell_type": "code",
   "execution_count": 82,
   "metadata": {},
   "outputs": [
    {
     "name": "stdout",
     "output_type": "stream",
     "text": [
      "C:\\Users\\user\\Downloads\\images\\ms - 복사본.jpg\n",
      "C:\\Users\\user\\Downloads\\images\\ms - 복사본_resized.jpg\n",
      "C:\\Users\\user\\Downloads\\images\\ms.jpg\n",
      "C:\\Users\\user\\Downloads\\images\\ms_resized.jpg\n",
      "C:\\Users\\user\\Downloads\\images\\samsung.jpg\n",
      "C:\\Users\\user\\Downloads\\images\\samsung_resized.jpg\n",
      "C:\\Users\\user\\Downloads\\images\\185083_love_like_icon.png\n",
      "C:\\Users\\user\\Downloads\\images\\185083_love_like_icon_resized.png\n",
      "C:\\Users\\user\\Downloads\\images\\samsung - 복사본.png\n",
      "C:\\Users\\user\\Downloads\\images\\samsung - 복사본_resized.png\n",
      "C:\\Users\\user\\Downloads\\images\\samsung.png\n",
      "C:\\Users\\user\\Downloads\\images\\samsung_resized.png\n"
     ]
    }
   ],
   "source": [
    "for imgae in img_list:\n",
    "    img = Image.open(imgae)\n",
    "    width = math.ceil(img.width/2)\n",
    "    height = math.ceil(img.height/2)\n",
    "    img_resized = img.resize((width,height))\n",
    "    target_path = imgae[:-4]+'_resized'+imgae[-4:]\n",
    "    img_resized.save(f'{target_path}')\n",
    "    #save 경로에 os.path.join 사용할 수도 있음 \n",
    "    shutil.move(f'{target_path}',f'{img_folder}')\n"
   ]
  },
  {
   "cell_type": "code",
   "execution_count": null,
   "metadata": {},
   "outputs": [],
   "source": []
  }
 ],
 "metadata": {
  "kernelspec": {
   "display_name": "base",
   "language": "python",
   "name": "python3"
  },
  "language_info": {
   "name": "python",
   "version": "3.9.13"
  },
  "orig_nbformat": 4,
  "vscode": {
   "interpreter": {
    "hash": "a077222d77dfe082b8f1dd562ad70e458ac2ab76993a0b248ab0476e32e9e8dd"
   }
  }
 },
 "nbformat": 4,
 "nbformat_minor": 2
}

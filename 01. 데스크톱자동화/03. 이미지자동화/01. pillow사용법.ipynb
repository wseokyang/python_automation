{
 "cells": [
  {
   "cell_type": "code",
   "execution_count": null,
   "metadata": {},
   "outputs": [],
   "source": [
    "#pip install pillow"
   ]
  },
  {
   "cell_type": "code",
   "execution_count": 25,
   "metadata": {},
   "outputs": [],
   "source": [
    "from PIL import Image\n",
    "\n",
    "#이미지 불러오기\n",
    "#img = Image.open('이미지경로')\n",
    "img = Image.open(r'c:\\python_automation\\01. 데스크톱자동화\\03. 이미지자동화\\teemo.jpg')\n"
   ]
  },
  {
   "cell_type": "code",
   "execution_count": 27,
   "metadata": {},
   "outputs": [
    {
     "data": {
      "text/plain": [
       "int"
      ]
     },
     "execution_count": 27,
     "metadata": {},
     "output_type": "execute_result"
    }
   ],
   "source": [
    "img.size\n",
    "img.width\n",
    "img.height"
   ]
  },
  {
   "cell_type": "code",
   "execution_count": null,
   "metadata": {},
   "outputs": [],
   "source": [
    "#이미지 크기 변경\n",
    "img_resized = img.resize((300,200))\n",
    "img_resized.save('teemo_resized.jpg')\n",
    "\n",
    "#이미지 자르기\n",
    "img.crop((0,0,300,200))\n",
    "\n",
    "#이미지 회전\n",
    "img.rotate(90)\n",
    "\n",
    "#이미지 대칭\n",
    "img.transpose(Image.FLIP_LEFT_RIGHT) #좌우\n",
    "img.transpose(Image.FLIP_TOP_BOTTOM) #상하\n"
   ]
  },
  {
   "cell_type": "code",
   "execution_count": null,
   "metadata": {},
   "outputs": [],
   "source": [
    "#이미지 필터\n",
    "from PIL import ImageFilter\n",
    "img.filter(ImageFilter.BLUR)\n",
    "img.filter(ImageFilter.BoxBlur(10))\n",
    "img.filter(ImageFilter.GaussianBlur(10))\n"
   ]
  },
  {
   "cell_type": "code",
   "execution_count": null,
   "metadata": {},
   "outputs": [],
   "source": [
    "# 특정 부분만 블러 처리\n",
    "\n",
    "#1. 이미지 자르기\n",
    "cropped_img = img.crop((300,200,600,400))\n",
    "\n",
    "#2. 자른 이미지 블러 처리\n",
    "blured_img = cropped_img.filter(ImageFilter.GaussianBlur(10))\n",
    "\n",
    "#3. 원본에 블러처리한 이미지 붙여넣기\n",
    "img.paste(blured_img,(300,200,600,400))\n",
    "img.save('teemo_blured.jpg')\n"
   ]
  },
  {
   "cell_type": "code",
   "execution_count": null,
   "metadata": {},
   "outputs": [],
   "source": []
  }
 ],
 "metadata": {
  "kernelspec": {
   "display_name": "base",
   "language": "python",
   "name": "python3"
  },
  "language_info": {
   "codemirror_mode": {
    "name": "ipython",
    "version": 3
   },
   "file_extension": ".py",
   "mimetype": "text/x-python",
   "name": "python",
   "nbconvert_exporter": "python",
   "pygments_lexer": "ipython3",
   "version": "3.9.13"
  },
  "orig_nbformat": 4,
  "vscode": {
   "interpreter": {
    "hash": "a077222d77dfe082b8f1dd562ad70e458ac2ab76993a0b248ab0476e32e9e8dd"
   }
  }
 },
 "nbformat": 4,
 "nbformat_minor": 2
}

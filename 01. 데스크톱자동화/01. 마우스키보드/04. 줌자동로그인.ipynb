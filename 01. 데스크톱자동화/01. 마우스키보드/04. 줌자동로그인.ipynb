{
 "cells": [
  {
   "cell_type": "code",
   "execution_count": 5,
   "metadata": {},
   "outputs": [],
   "source": [
    "import pyautogui\n",
    "import time"
   ]
  },
  {
   "cell_type": "code",
   "execution_count": 23,
   "metadata": {},
   "outputs": [],
   "source": [
    "#zoom 자동 로그인 \n",
    "time.sleep(1)\n",
    "\n",
    "pyautogui.hotkey('winleft', 'd')\n",
    "time.sleep(1)\n",
    "\n",
    "pyautogui.moveTo(x=252, y=399)\n",
    "pyautogui.doubleClick()\n",
    "\n",
    "time.sleep(3)\n",
    "pyautogui.moveTo(x=924, y=531)\n",
    "pyautogui.click()\n",
    "\n",
    "time.sleep(2)\n",
    "pyautogui.write('abc@xyz.com')     \n",
    "pyautogui.press('tab') \n",
    "pyautogui.write('passwd')     \n",
    "pyautogui.press('enter') "
   ]
  },
  {
   "cell_type": "code",
   "execution_count": null,
   "metadata": {},
   "outputs": [],
   "source": [
    "#단점\n",
    "#1. 화면 좌표가 바뀌면 동작 X\n",
    "#2. 제어권을 넘겨주기 때문에, 동시에 다른 작업 불가능\n",
    "\n",
    "#클릭이 안될 때 -> 관리자 권한으로 실행 "
   ]
  }
 ],
 "metadata": {
  "kernelspec": {
   "display_name": "base",
   "language": "python",
   "name": "python3"
  },
  "language_info": {
   "codemirror_mode": {
    "name": "ipython",
    "version": 3
   },
   "file_extension": ".py",
   "mimetype": "text/x-python",
   "name": "python",
   "nbconvert_exporter": "python",
   "pygments_lexer": "ipython3",
   "version": "3.9.13"
  },
  "orig_nbformat": 4,
  "vscode": {
   "interpreter": {
    "hash": "a077222d77dfe082b8f1dd562ad70e458ac2ab76993a0b248ab0476e32e9e8dd"
   }
  }
 },
 "nbformat": 4,
 "nbformat_minor": 2
}

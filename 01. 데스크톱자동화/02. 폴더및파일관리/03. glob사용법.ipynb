{
 "cells": [
  {
   "cell_type": "code",
   "execution_count": 20,
   "metadata": {},
   "outputs": [
    {
     "data": {
      "text/plain": [
       "['테스트1\\\\2023-02-06 data1.txt',\n",
       " '테스트1\\\\2023-02-06 data2.txt',\n",
       " '테스트1\\\\2023-02-06 data3.txt',\n",
       " '테스트1\\\\2023-02-06 data4.txt',\n",
       " '테스트1\\\\2023-02-06 data5.txt',\n",
       " '테스트1\\\\2023-02-06 data6.txt',\n",
       " '테스트1\\\\2023-02-06 data7.txt',\n",
       " '테스트1\\\\2023-02-06 data8.txt',\n",
       " '테스트1\\\\2023-02-06 data9.txt']"
      ]
     },
     "execution_count": 20,
     "metadata": {},
     "output_type": "execute_result"
    }
   ],
   "source": [
    "#glob 패턴 매칭 기법\n",
    "#패턴에 맞는 파일을 찾을 때 사용\n",
    "import glob\n",
    "glob.glob('테스트1/2023-02-06 data*.txt')\n",
    "glob.glob('테스트1/2023-02-06 data?.txt')"
   ]
  },
  {
   "cell_type": "code",
   "execution_count": 24,
   "metadata": {},
   "outputs": [
    {
     "data": {
      "text/plain": [
       "['테스트1\\\\2023-02-06 data1.txt',\n",
       " '테스트1\\\\2023-02-06 data2.txt',\n",
       " '테스트1\\\\2023-02-06 data3.txt',\n",
       " '테스트1\\\\2023-02-06 data4.txt',\n",
       " '테스트1\\\\2023-02-06 data5.txt',\n",
       " '테스트1\\\\2023-02-06 data6.txt',\n",
       " '테스트1\\\\2023-02-06 data7.txt',\n",
       " '테스트1\\\\2023-02-06 data8.txt',\n",
       " '테스트1\\\\2023-02-06 data9.txt',\n",
       " '테스트1\\\\테스트2\\\\2023-02-06 data1.txt']"
      ]
     },
     "execution_count": 24,
     "metadata": {},
     "output_type": "execute_result"
    }
   ],
   "source": [
    "#하위 폴더 탐색\n",
    "glob.glob('테스트1/**/2023-02-06 data?.txt',recursive=True)"
   ]
  },
  {
   "cell_type": "code",
   "execution_count": null,
   "metadata": {},
   "outputs": [],
   "source": []
  }
 ],
 "metadata": {
  "kernelspec": {
   "display_name": "base",
   "language": "python",
   "name": "python3"
  },
  "language_info": {
   "name": "python",
   "version": "3.9.13"
  },
  "orig_nbformat": 4,
  "vscode": {
   "interpreter": {
    "hash": "a077222d77dfe082b8f1dd562ad70e458ac2ab76993a0b248ab0476e32e9e8dd"
   }
  }
 },
 "nbformat": 4,
 "nbformat_minor": 2
}

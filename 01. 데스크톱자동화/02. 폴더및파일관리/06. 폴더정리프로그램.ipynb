{
 "cells": [
  {
   "cell_type": "code",
   "execution_count": 8,
   "metadata": {},
   "outputs": [],
   "source": [
    "#다운로드 폴더에 있는 img, png 를 imaged 폴더로 이동 \n",
    "import os\n",
    "import glob\n",
    "import shutil\n"
   ]
  },
  {
   "cell_type": "code",
   "execution_count": 14,
   "metadata": {},
   "outputs": [],
   "source": [
    "if not os.path.exists('C:/Users/user/Downloads/images'):\n",
    "    os.mkdir('C:/Users/user/Downloads/images')\n",
    "\n",
    "# if not os.path.exists(r'C:\\Users\\user\\Downloads\\images'):\n",
    "#   os.mkdir(r'C:\\Users\\user\\Downloads\\images')    \n",
    "\n",
    "img_list = []\n",
    "png_list = glob.glob('C:/Users/user/Downloads/*.png')\n",
    "jpg_list = glob.glob('C:/Users/user/Downloads/*.jpg')\n",
    "img_list.extend(png_list)\n",
    "img_list.extend(jpg_list)\n",
    "\n",
    "for element in img_list:\n",
    "    shutil.move(element,'C:/Users/user/Downloads/images')"
   ]
  },
  {
   "cell_type": "code",
   "execution_count": 16,
   "metadata": {},
   "outputs": [],
   "source": [
    "target_folder = 'C:/Users/user/Downloads/'\n",
    "img_folder = os.path.join(target_folder, 'images2')\n",
    "\n",
    "if not os.path.exists(img_folder):\n",
    "    os.mkdir(img_folder)\n",
    "\n",
    "ext_list = ['jpg', 'png']\n",
    "file_list = []\n",
    "for ext in ext_list:\n",
    "    file_list.extend(glob.glob(f'{target_folder}/*.{ext}'))\n",
    "\n",
    "for files in file_list:\n",
    "    shutil.move(files, img_folder)\n"
   ]
  },
  {
   "cell_type": "code",
   "execution_count": null,
   "metadata": {},
   "outputs": [],
   "source": []
  }
 ],
 "metadata": {
  "kernelspec": {
   "display_name": "base",
   "language": "python",
   "name": "python3"
  },
  "language_info": {
   "codemirror_mode": {
    "name": "ipython",
    "version": 3
   },
   "file_extension": ".py",
   "mimetype": "text/x-python",
   "name": "python",
   "nbconvert_exporter": "python",
   "pygments_lexer": "ipython3",
   "version": "3.9.13"
  },
  "orig_nbformat": 4,
  "vscode": {
   "interpreter": {
    "hash": "a077222d77dfe082b8f1dd562ad70e458ac2ab76993a0b248ab0476e32e9e8dd"
   }
  }
 },
 "nbformat": 4,
 "nbformat_minor": 2
}

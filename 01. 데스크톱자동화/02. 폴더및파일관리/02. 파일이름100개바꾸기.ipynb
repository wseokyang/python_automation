{
 "cells": [
  {
   "cell_type": "code",
   "execution_count": 8,
   "metadata": {},
   "outputs": [],
   "source": [
    "import os\n",
    "#파일 입출력\n",
    "f = open('text.txt', 'w')\n",
    "f.write('hi')\n",
    "f.close()"
   ]
  },
  {
   "cell_type": "code",
   "execution_count": 4,
   "metadata": {},
   "outputs": [],
   "source": [
    "# os.mkdir('./테스트1')\n",
    "#파일 100개 만들기\n",
    "for i in range (1,11):\n",
    "    f = open(f'테스트1/2023-02-06 데이터{i}.txt','w') #for 문 안에서 f 스트링 사용\n",
    "    f.write(f'data{i}')\n",
    "    f.close()"
   ]
  },
  {
   "cell_type": "code",
   "execution_count": 5,
   "metadata": {},
   "outputs": [],
   "source": [
    "#파일 100개 이름 변경\n",
    "for i in range (1,11):\n",
    "    path1 = f'테스트1/2023-02-06 데이터{i}.txt'\n",
    "    path2 = f'테스트1/2023-02-06 data{i}.txt'\n",
    "    os.rename(path1, path2)\n"
   ]
  },
  {
   "cell_type": "code",
   "execution_count": null,
   "metadata": {},
   "outputs": [],
   "source": []
  }
 ],
 "metadata": {
  "kernelspec": {
   "display_name": "base",
   "language": "python",
   "name": "python3"
  },
  "language_info": {
   "codemirror_mode": {
    "name": "ipython",
    "version": 3
   },
   "file_extension": ".py",
   "mimetype": "text/x-python",
   "name": "python",
   "nbconvert_exporter": "python",
   "pygments_lexer": "ipython3",
   "version": "3.9.13"
  },
  "orig_nbformat": 4,
  "vscode": {
   "interpreter": {
    "hash": "a077222d77dfe082b8f1dd562ad70e458ac2ab76993a0b248ab0476e32e9e8dd"
   }
  }
 },
 "nbformat": 4,
 "nbformat_minor": 2
}

{
 "cells": [
  {
   "cell_type": "code",
   "execution_count": null,
   "metadata": {},
   "outputs": [],
   "source": [
    "import os"
   ]
  },
  {
   "cell_type": "code",
   "execution_count": null,
   "metadata": {},
   "outputs": [],
   "source": [
    "#상대경로 이용 \n",
    "# ./ : 현재 위치 (생략) \n",
    "os.mkdir('./테스트1')\n",
    "os.mkdir('테스트1/테스트2')\n",
    "# ../ : 상위 폴더 \n",
    "# ../../ : 두단계 상위 폴더 \n",
    "os.mkdir('../테스트3')"
   ]
  },
  {
   "cell_type": "code",
   "execution_count": null,
   "metadata": {},
   "outputs": [],
   "source": [
    "#절대 경로 이용\n",
    "os.mkdir('C:/python_automation/01. 데스크톱자동화/테스트4')"
   ]
  },
  {
   "cell_type": "code",
   "execution_count": null,
   "metadata": {},
   "outputs": [],
   "source": [
    "#파일 존재 여부 확인 \n",
    "os.path.exists('C:/python_automation/01. 데스크톱자동화/테스트4')\n",
    "os.path.exists('../01. 마우스키보드/')\n",
    "\n",
    "#폴더가 없을 때만 새로 폴더 생성\n",
    "if not os.path.exists('C:/python_automation/01. 데스크톱자동화/테스트4'):\n",
    "    os.mkdir('C:/python_automation/01. 데스크톱자동화/테스트4')"
   ]
  },
  {
   "cell_type": "code",
   "execution_count": null,
   "metadata": {},
   "outputs": [],
   "source": [
    "#폴더 내 파일 목록\n",
    "os.listdir('../01. 마우스키보드/')\n",
    "os.listdir('C:/python_automation/01. 데스크톱자동화/01. 마우스키보드')"
   ]
  },
  {
   "cell_type": "code",
   "execution_count": null,
   "metadata": {},
   "outputs": [],
   "source": [
    "file_list = os.listdir('C:/python_automation/01. 데스크톱자동화/01. 마우스키보드')\n",
    "file_list[0]"
   ]
  },
  {
   "cell_type": "code",
   "execution_count": null,
   "metadata": {},
   "outputs": [],
   "source": []
  }
 ],
 "metadata": {
  "kernelspec": {
   "display_name": "base",
   "language": "python",
   "name": "python3"
  },
  "language_info": {
   "codemirror_mode": {
    "name": "ipython",
    "version": 3
   },
   "file_extension": ".py",
   "mimetype": "text/x-python",
   "name": "python",
   "nbconvert_exporter": "python",
   "pygments_lexer": "ipython3",
   "version": "3.9.13"
  },
  "orig_nbformat": 4,
  "vscode": {
   "interpreter": {
    "hash": "a077222d77dfe082b8f1dd562ad70e458ac2ab76993a0b248ab0476e32e9e8dd"
   }
  }
 },
 "nbformat": 4,
 "nbformat_minor": 2
}

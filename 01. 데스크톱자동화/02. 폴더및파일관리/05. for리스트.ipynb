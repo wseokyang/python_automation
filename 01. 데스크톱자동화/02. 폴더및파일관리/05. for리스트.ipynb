str_list = [a, b, c, d, e]
for str in 
{
 "cells": [
  {
   "cell_type": "code",
   "execution_count": 18,
   "metadata": {},
   "outputs": [],
   "source": [
    "import xlwings as xw\n",
    "import pandas as pd\n",
    "import os"
   ]
  },
  {
   "cell_type": "code",
   "execution_count": 19,
   "metadata": {},
   "outputs": [],
   "source": [
    "folder_path = 'sales_data'  \n",
    "wb = xw.Book(os.path.join(folder_path, '상반기_제품_판매량_통합.xlsx'))\n",
    "ws = wb.sheets['Sheet1']\n",
    "df = ws.range('A1').options(pd.DataFrame, expand = 'table', index=False).value\n",
    "xw.apps.active.quit()"
   ]
  },
  {
   "cell_type": "code",
   "execution_count": 20,
   "metadata": {},
   "outputs": [],
   "source": [
    "prod_list = df['제품명'].unique()\n",
    "for prod in prod_list:\n",
    "    wb = xw.Book(os.path.join(folder_path, f'상반기_{prod}_판매량.xlsx'))\n",
    "    ws = wb.sheets['Sheet1']\n",
    "    max_row = ws.range('B1').end('down').row\n",
    "    ws.range('J1').value = ['합계']\n",
    "    for i in range(2,max_row+1):\n",
    "        ws.range(f'J{i}').value = [f'=sum(D{i}:I{i})']\n",
    "    ws.range('1:2').insert()\n",
    "    ws.range('C1:G1').merge()\n",
    "    ws.range('C1').value = [f'판매량 합계:{prod}']\n",
    "    ws.range('C1').font.bold = True\n",
    "    ws.range('C1').font.size = 20\n",
    "    ws.range('C1').api.HorizontalAlignment = 3\n",
    "    wb.save(os.path.join(folder_path, f'상반기_{prod}_판매량.xlsx'))\n",
    "    xw.apps.active.quit()"
   ]
  },
  {
   "cell_type": "code",
   "execution_count": null,
   "metadata": {},
   "outputs": [],
   "source": [
    "prod_list = df['제품명'].unique()\n",
    "for prod in prod_list:\n",
    "    wb = xw.Book(os.path.join(folder_path, f'상반기_{prod}_판매량.xlsx'))\n",
    "    ws = wb.sheets['Sheet1']"
   ]
  }
 ],
 "metadata": {
  "kernelspec": {
   "display_name": "base",
   "language": "python",
   "name": "python3"
  },
  "language_info": {
   "codemirror_mode": {
    "name": "ipython",
    "version": 3
   },
   "file_extension": ".py",
   "mimetype": "text/x-python",
   "name": "python",
   "nbconvert_exporter": "python",
   "pygments_lexer": "ipython3",
   "version": "3.9.13"
  },
  "orig_nbformat": 4,
  "vscode": {
   "interpreter": {
    "hash": "a077222d77dfe082b8f1dd562ad70e458ac2ab76993a0b248ab0476e32e9e8dd"
   }
  }
 },
 "nbformat": 4,
 "nbformat_minor": 2
}

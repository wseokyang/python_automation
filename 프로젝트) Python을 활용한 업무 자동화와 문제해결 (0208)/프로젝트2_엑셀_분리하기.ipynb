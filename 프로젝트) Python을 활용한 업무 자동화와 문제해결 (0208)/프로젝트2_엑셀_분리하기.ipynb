{
 "cells": [
  {
   "cell_type": "code",
   "execution_count": 7,
   "metadata": {},
   "outputs": [],
   "source": [
    "import xlwings as xw\n",
    "import pandas as pd\n",
    "import os"
   ]
  },
  {
   "cell_type": "code",
   "execution_count": 8,
   "metadata": {},
   "outputs": [],
   "source": [
    "folder_path = 'sales_data'\n",
    "wb = xw.Book(os.path.join(folder_path, '상반기_제품_판매량_통합.xlsx'))\n",
    "ws = wb.sheets['Sheet1']\n",
    "df = ws.range('A1').options(pd.DataFrame, expand = 'table', index=False).value\n",
    "xw.apps.active.quit()\n"
   ]
  },
  {
   "cell_type": "code",
   "execution_count": 9,
   "metadata": {},
   "outputs": [],
   "source": [
    "prod_list = df['제품명'].unique()\n",
    "for prod in prod_list:\n",
    "    prod_df = df[df['제품명']==f'{prod}']\n",
    "    prod_df.to_excel(f'{folder_path}/상반기_{prod}_판매량.xlsx',index=False)\n"
   ]
  },
  {
   "cell_type": "code",
   "execution_count": null,
   "metadata": {},
   "outputs": [],
   "source": []
  }
 ],
 "metadata": {
  "kernelspec": {
   "display_name": "base",
   "language": "python",
   "name": "python3"
  },
  "language_info": {
   "codemirror_mode": {
    "name": "ipython",
    "version": 3
   },
   "file_extension": ".py",
   "mimetype": "text/x-python",
   "name": "python",
   "nbconvert_exporter": "python",
   "pygments_lexer": "ipython3",
   "version": "3.9.13"
  },
  "orig_nbformat": 4,
  "vscode": {
   "interpreter": {
    "hash": "a077222d77dfe082b8f1dd562ad70e458ac2ab76993a0b248ab0476e32e9e8dd"
   }
  }
 },
 "nbformat": 4,
 "nbformat_minor": 2
}

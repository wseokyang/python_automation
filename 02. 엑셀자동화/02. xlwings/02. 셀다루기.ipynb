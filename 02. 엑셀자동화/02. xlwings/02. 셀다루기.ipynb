{
 "cells": [
  {
   "cell_type": "code",
   "execution_count": 1,
   "metadata": {},
   "outputs": [],
   "source": [
    "import xlwings as xw"
   ]
  },
  {
   "cell_type": "code",
   "execution_count": 4,
   "metadata": {},
   "outputs": [],
   "source": [
    "wb = xw.Book(\"서무직 교육 이수 현황.xlsx\")\n",
    "ws = wb.sheets['기계설계팀']"
   ]
  },
  {
   "cell_type": "code",
   "execution_count": 7,
   "metadata": {},
   "outputs": [],
   "source": [
    "#데이터 1개 입력 \n",
    "ws.range('A1').value = '성명'\n",
    "ws.range('A2').value = '정우성'\n",
    "ws.range('B1').value = '1월'\n",
    "ws.range('B2').value = '8'\n"
   ]
  },
  {
   "cell_type": "code",
   "execution_count": 8,
   "metadata": {},
   "outputs": [],
   "source": [
    "#데이터 여러개 입력\n",
    "ws.range('A3').value = ['유연석',0]"
   ]
  },
  {
   "cell_type": "code",
   "execution_count": 9,
   "metadata": {},
   "outputs": [],
   "source": [
    "ws.range('A4').value = [['조진웅',14.5], ['박보검',3]]"
   ]
  },
  {
   "cell_type": "code",
   "execution_count": 12,
   "metadata": {},
   "outputs": [],
   "source": [
    "#데이터 세로로 입력 \n",
    "ws.range('A6').options(transpose=True).value = ['김슬기', '주현영']\n",
    "ws.range('B6').options(transpose=True).value = [12,5]"
   ]
  },
  {
   "cell_type": "code",
   "execution_count": 27,
   "metadata": {},
   "outputs": [
    {
     "data": {
      "text/plain": [
       "(8, 2)"
      ]
     },
     "execution_count": 27,
     "metadata": {},
     "output_type": "execute_result"
    }
   ],
   "source": [
    "#마지막 행,열 번호\n",
    "max_row = ws.range('B1').end('down').row\n",
    "max_col = ws.range('A1').end('right').column\n",
    "(max_row, max_col)"
   ]
  },
  {
   "cell_type": "code",
   "execution_count": 20,
   "metadata": {},
   "outputs": [],
   "source": [
    "#수식도 입력 가능 \n",
    "ws.range('A8').value = ['합계',f'=sum(B2:B{max_row})']"
   ]
  },
  {
   "cell_type": "code",
   "execution_count": 31,
   "metadata": {},
   "outputs": [
    {
     "data": {
      "text/plain": [
       "[['정우성', 8.0],\n",
       " ['유연석', 0.0],\n",
       " ['조진웅', 14.5],\n",
       " ['박보검', 3.0],\n",
       " ['김슬기', 12.0],\n",
       " ['주현영', 5.0],\n",
       " ['합계', 42.5]]"
      ]
     },
     "execution_count": 31,
     "metadata": {},
     "output_type": "execute_result"
    }
   ],
   "source": [
    "#셀을 확장하여 선택하기\n",
    "ws.range('A2').expand('down').value\n",
    "ws.range('A2').expand('right').value\n",
    "ws.range('A2').expand().value"
   ]
  },
  {
   "cell_type": "code",
   "execution_count": 32,
   "metadata": {},
   "outputs": [],
   "source": [
    "#1행에 비어있는 행 삽입\n",
    "ws.range('1:1').insert()"
   ]
  },
  {
   "cell_type": "code",
   "execution_count": 33,
   "metadata": {},
   "outputs": [],
   "source": [
    "#A열에 비어있는 열 삽입\n",
    "ws.range('A:A').insert()"
   ]
  },
  {
   "cell_type": "code",
   "execution_count": 34,
   "metadata": {},
   "outputs": [],
   "source": [
    "#셀 병합\n",
    "ws.range('A1:E1').merge()"
   ]
  },
  {
   "cell_type": "code",
   "execution_count": 43,
   "metadata": {},
   "outputs": [],
   "source": [
    "#폰트 & 정렬\n",
    "ws.range('A1').value = '기계설계팀 교육 이수 현황'\n",
    "ws.range('A1').font.bold = True\n",
    "ws.range('A1').font.size = 16\n",
    "ws.range('A1').font.color = (255,0,0)\n",
    "ws.range('A1').api.HorizontalAlignment = 3 #1 맞춤 2 왼쪽 3 가운데 4 오른쪽 "
   ]
  },
  {
   "cell_type": "code",
   "execution_count": 44,
   "metadata": {},
   "outputs": [],
   "source": [
    "wb.save(\"서무직 교육 이수 현황.xlsx\")\n",
    "xw.apps.active.quit()"
   ]
  },
  {
   "cell_type": "code",
   "execution_count": null,
   "metadata": {},
   "outputs": [],
   "source": []
  },
  {
   "cell_type": "markdown",
   "metadata": {},
   "source": []
  }
 ],
 "metadata": {
  "kernelspec": {
   "display_name": "base",
   "language": "python",
   "name": "python3"
  },
  "language_info": {
   "codemirror_mode": {
    "name": "ipython",
    "version": 3
   },
   "file_extension": ".py",
   "mimetype": "text/x-python",
   "name": "python",
   "nbconvert_exporter": "python",
   "pygments_lexer": "ipython3",
   "version": "3.9.13"
  },
  "orig_nbformat": 4,
  "vscode": {
   "interpreter": {
    "hash": "a077222d77dfe082b8f1dd562ad70e458ac2ab76993a0b248ab0476e32e9e8dd"
   }
  }
 },
 "nbformat": 4,
 "nbformat_minor": 2
}

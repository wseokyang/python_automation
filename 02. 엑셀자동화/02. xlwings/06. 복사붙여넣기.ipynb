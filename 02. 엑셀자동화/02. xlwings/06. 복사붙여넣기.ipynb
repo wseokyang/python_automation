{
 "cells": [
  {
   "cell_type": "code",
   "execution_count": 1,
   "metadata": {},
   "outputs": [],
   "source": [
    "import xlwings as xw\n",
    "import os"
   ]
  },
  {
   "cell_type": "code",
   "execution_count": 6,
   "metadata": {},
   "outputs": [],
   "source": [
    "folder_path = r'C:\\python_automation\\02. 엑셀자동화\\02. xlwings\\data2\\annual_leave_data'\n",
    "wb = xw.Book(os.path.join(folder_path, '부서원 휴가사용조회-2023.09.xlsx'))\n",
    "\n",
    "ws = wb.sheets['Sheet1']\n",
    "#범위를 복사\n",
    "ws.range('I3:J8').copy()"
   ]
  },
  {
   "cell_type": "code",
   "execution_count": 4,
   "metadata": {},
   "outputs": [],
   "source": [
    "wb2 = xw.Book(os.path.join(folder_path, '사무직 휴가사용현황(연구개발팀, 9월).xlsx')) \n",
    "ws2 = wb2.sheets['Sheet1']\n",
    "\n",
    "#값만 붙여넣기\n",
    "ws2.range('I6').paste(paste='values')"
   ]
  },
  {
   "cell_type": "code",
   "execution_count": 7,
   "metadata": {},
   "outputs": [],
   "source": [
    "# #서식, 함수 유지하고 붙여넣기 \n",
    "# ws2.range('I6').paste()\n",
    "#가로로 붙여넣기 \n",
    "ws2.range('C15').paste(transpose=True)"
   ]
  },
  {
   "cell_type": "code",
   "execution_count": 9,
   "metadata": {},
   "outputs": [],
   "source": [
    "# 3행~4행 복사하기\n",
    "ws.range('3:4').copy()\n",
    "\n",
    "# B열~D열 복사하기\n",
    "ws.range('B:D').copy()\n",
    "\n",
    "# C열 복사하기\n",
    "ws.range('B:B').offset(0,1).copy()"
   ]
  },
  {
   "cell_type": "code",
   "execution_count": 11,
   "metadata": {},
   "outputs": [],
   "source": [
    "wb.save(os.path.join(folder_path, '부서원 휴가사용조회-2023.09.xlsx'))\n",
    "wb2.save(os.path.join(folder_path, '사무직 휴가사용현황(연구개발팀, 9월).xlsx')) \n",
    "xw.apps.active.quit()"
   ]
  },
  {
   "cell_type": "code",
   "execution_count": null,
   "metadata": {},
   "outputs": [],
   "source": []
  }
 ],
 "metadata": {
  "kernelspec": {
   "display_name": "base",
   "language": "python",
   "name": "python3"
  },
  "language_info": {
   "codemirror_mode": {
    "name": "ipython",
    "version": 3
   },
   "file_extension": ".py",
   "mimetype": "text/x-python",
   "name": "python",
   "nbconvert_exporter": "python",
   "pygments_lexer": "ipython3",
   "version": "3.9.13"
  },
  "orig_nbformat": 4,
  "vscode": {
   "interpreter": {
    "hash": "a077222d77dfe082b8f1dd562ad70e458ac2ab76993a0b248ab0476e32e9e8dd"
   }
  }
 },
 "nbformat": 4,
 "nbformat_minor": 2
}

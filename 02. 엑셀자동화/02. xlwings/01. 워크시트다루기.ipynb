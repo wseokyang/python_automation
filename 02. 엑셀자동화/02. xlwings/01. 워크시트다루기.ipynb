{
 "cells": [
  {
   "cell_type": "code",
   "execution_count": 7,
   "metadata": {},
   "outputs": [],
   "source": [
    "#pip install xlwings --upgrade\n",
    "import xlwings as xw"
   ]
  },
  {
   "cell_type": "code",
   "execution_count": 8,
   "metadata": {},
   "outputs": [
    {
     "data": {
      "text/plain": [
       "<Book [통합 문서1]>"
      ]
     },
     "execution_count": 8,
     "metadata": {},
     "output_type": "execute_result"
    }
   ],
   "source": [
    "#1. 새로운 엑셀 파일 생성\n",
    "wb = xw.Book()\n",
    "wb"
   ]
  },
  {
   "cell_type": "code",
   "execution_count": 9,
   "metadata": {},
   "outputs": [],
   "source": [
    "#시트선택\n",
    "ws = wb.sheets['Sheet1']\n",
    "\n",
    "#시트이름변경\n",
    "ws.name = '기계설계팀'"
   ]
  },
  {
   "cell_type": "code",
   "execution_count": 10,
   "metadata": {},
   "outputs": [],
   "source": [
    "#엑셀 저장\n",
    "wb.save('서무직 교육 이수 현황.xlsx')"
   ]
  },
  {
   "cell_type": "code",
   "execution_count": 17,
   "metadata": {},
   "outputs": [],
   "source": [
    "#엑셀 닫기\n",
    "xw.apps.active.quit()"
   ]
  },
  {
   "cell_type": "code",
   "execution_count": 12,
   "metadata": {},
   "outputs": [
    {
     "data": {
      "text/plain": [
       "<Sheet [서무직 교육 이수 현황.xlsx]공정자동화팀>"
      ]
     },
     "execution_count": 12,
     "metadata": {},
     "output_type": "execute_result"
    }
   ],
   "source": [
    "#2. 기존에 만들어진 엑셀파일 불러오기 \n",
    "wb = xw.Book(\"서무직 교육 이수 현황.xlsx\")\n",
    "\n",
    "#새로운 시트 생성\n",
    "wb.sheets.add('기술지원팀')\n",
    "wb.sheets.add('검사진단팀')\n",
    "wb.sheets.add('공정자동화팀')"
   ]
  },
  {
   "cell_type": "code",
   "execution_count": 13,
   "metadata": {},
   "outputs": [],
   "source": [
    "#시트 삭제\n",
    "wb.sheets['검사진단팀'].delete()"
   ]
  },
  {
   "cell_type": "code",
   "execution_count": 16,
   "metadata": {},
   "outputs": [],
   "source": [
    "#모든 sheet 다루기\n",
    "sheet_list = wb.sheet_names\n",
    "sheet_list\n",
    "wb.save(\"서무직 교육 이수 현황.xlsx\")\n",
    "xw.apps.active.quit()"
   ]
  },
  {
   "cell_type": "code",
   "execution_count": null,
   "metadata": {},
   "outputs": [],
   "source": []
  }
 ],
 "metadata": {
  "kernelspec": {
   "display_name": "base",
   "language": "python",
   "name": "python3"
  },
  "language_info": {
   "codemirror_mode": {
    "name": "ipython",
    "version": 3
   },
   "file_extension": ".py",
   "mimetype": "text/x-python",
   "name": "python",
   "nbconvert_exporter": "python",
   "pygments_lexer": "ipython3",
   "version": "3.9.13"
  },
  "orig_nbformat": 4,
  "vscode": {
   "interpreter": {
    "hash": "a077222d77dfe082b8f1dd562ad70e458ac2ab76993a0b248ab0476e32e9e8dd"
   }
  }
 },
 "nbformat": 4,
 "nbformat_minor": 2
}

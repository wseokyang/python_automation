{
 "cells": [
  {
   "cell_type": "code",
   "execution_count": 1,
   "metadata": {},
   "outputs": [],
   "source": [
    "import xlwings as xw\n",
    "import os\n",
    "import glob\n",
    "import pandas as pd\n"
   ]
  },
  {
   "cell_type": "code",
   "execution_count": 2,
   "metadata": {},
   "outputs": [],
   "source": [
    "#xl_list = glob.glob('C:/python_automation/02. 엑셀자동화/02. xlwings/data1/onlinesale_data/*.xlsx')"
   ]
  },
  {
   "cell_type": "code",
   "execution_count": 4,
   "metadata": {},
   "outputs": [
    {
     "name": "stderr",
     "output_type": "stream",
     "text": [
      "C:\\Users\\user\\AppData\\Local\\Temp\\ipykernel_12896\\3378968373.py:10: FutureWarning: The frame.append method is deprecated and will be removed from pandas in a future version. Use pandas.concat instead.\n",
      "  total_df = total_df.append(df,ignore_index=True)\n"
     ]
    }
   ],
   "source": [
    "folder_path = r'C:\\python_automation\\02. 엑셀자동화\\02. xlwings\\data1\\onlinesale_data'\n",
    "file_list = os.listdir(folder_path)\n",
    "total_df = pd.DataFrame()\n",
    "for files in file_list:\n",
    "    excel_path = os.path.join(folder_path, files)\n",
    "#엑셀 불러오기\n",
    "    wb = xw.Book(excel_path)\n",
    "    ws = wb.sheets['data']\n",
    "    df = ws.range('A1').options(pd.DataFrame, expand='table', index=False).value\n",
    "    total_df = total_df.append(df,ignore_index=True)\n",
    "    xw.apps.active.quit()\n",
    "\n",
    "total_df.to_excel(f'{folder_path}/total.xlsx')"
   ]
  },
  {
   "cell_type": "code",
   "execution_count": null,
   "metadata": {},
   "outputs": [],
   "source": [
    "#연습 : 1개의 엑셀 파일을 데이터 프레임으로 변경\n",
    "wb = xw.Book(excel_path)\n",
    "ws = wb.sheets['data']\n",
    "df = ws.range('A1').options(pd.DataFrame, expand = 'table')"
   ]
  }
 ],
 "metadata": {
  "kernelspec": {
   "display_name": "base",
   "language": "python",
   "name": "python3"
  },
  "language_info": {
   "codemirror_mode": {
    "name": "ipython",
    "version": 3
   },
   "file_extension": ".py",
   "mimetype": "text/x-python",
   "name": "python",
   "nbconvert_exporter": "python",
   "pygments_lexer": "ipython3",
   "version": "3.9.13"
  },
  "orig_nbformat": 4,
  "vscode": {
   "interpreter": {
    "hash": "a077222d77dfe082b8f1dd562ad70e458ac2ab76993a0b248ab0476e32e9e8dd"
   }
  }
 },
 "nbformat": 4,
 "nbformat_minor": 2
}

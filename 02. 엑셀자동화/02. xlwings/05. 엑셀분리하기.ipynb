{
 "cells": [
  {
   "cell_type": "code",
   "execution_count": 51,
   "metadata": {},
   "outputs": [],
   "source": [
    "import xlwings as xw\n",
    "import os\n",
    "import glob\n",
    "import pandas as pd"
   ]
  },
  {
   "cell_type": "code",
   "execution_count": 52,
   "metadata": {},
   "outputs": [],
   "source": [
    "#엑셀 불러오기 \n",
    "folder_path = r'C:\\python_automation\\02. 엑셀자동화\\02. xlwings\\data1\\onlinesale_data'\n",
    "wb = xw.Book(os.path.join(folder_path, 'total.xlsx'))\n",
    "\n",
    "#시트 선택\n",
    "ws = wb.sheets['Sheet1']\n",
    "\n",
    "#A1부터 표 데이터 읽어 df로 변경 \n",
    "df = ws.range('B1').options(pd.DataFrame, expand = 'table', index=False).value"
   ]
  },
  {
   "cell_type": "code",
   "execution_count": 53,
   "metadata": {},
   "outputs": [],
   "source": [
    "# df[df['제품명']=='게이밍 마우스'].reset_index(drop=True)\n",
    "# ws = wb.sheets.add('게이밍 마우스')\n",
    "# ws.range('A1').options(index=False).value "
   ]
  },
  {
   "cell_type": "code",
   "execution_count": 54,
   "metadata": {},
   "outputs": [],
   "source": [
    "#제품명 종류 확인하기 (unique)\n",
    "prod_list = df['제품명'].unique()"
   ]
  },
  {
   "cell_type": "code",
   "execution_count": 55,
   "metadata": {},
   "outputs": [],
   "source": [
    "#시트를 만들고 데이터 복사 \n",
    "for prod in prod_list:\n",
    "    ws = wb.sheets.add(f'{prod}')\n",
    "    ws.range('A1').options(index=False).value = df[df['제품명']==f'{prod}']\n",
    "    ws.autofit(axis='columns')\n"
   ]
  },
  {
   "cell_type": "code",
   "execution_count": 56,
   "metadata": {},
   "outputs": [],
   "source": [
    "wb.save(os.path.join(folder_path, 'total.xlsx'))\n",
    "xw.apps.active.quit()"
   ]
  },
  {
   "cell_type": "code",
   "execution_count": null,
   "metadata": {},
   "outputs": [],
   "source": []
  }
 ],
 "metadata": {
  "kernelspec": {
   "display_name": "base",
   "language": "python",
   "name": "python3"
  },
  "language_info": {
   "codemirror_mode": {
    "name": "ipython",
    "version": 3
   },
   "file_extension": ".py",
   "mimetype": "text/x-python",
   "name": "python",
   "nbconvert_exporter": "python",
   "pygments_lexer": "ipython3",
   "version": "3.9.13"
  },
  "orig_nbformat": 4,
  "vscode": {
   "interpreter": {
    "hash": "a077222d77dfe082b8f1dd562ad70e458ac2ab76993a0b248ab0476e32e9e8dd"
   }
  }
 },
 "nbformat": 4,
 "nbformat_minor": 2
}

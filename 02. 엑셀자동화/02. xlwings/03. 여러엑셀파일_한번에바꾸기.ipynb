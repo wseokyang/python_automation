{
 "cells": [
  {
   "cell_type": "code",
   "execution_count": 2,
   "metadata": {},
   "outputs": [],
   "source": [
    "import xlwings as xw\n",
    "import os\n",
    "import glob\n",
    "\n",
    "#taxbill_data 폴더 내 엑셀파일 열고 자료입력페이지 -> 작성일자 (C14) 2023-02-01 로 수정"
   ]
  },
  {
   "cell_type": "code",
   "execution_count": 14,
   "metadata": {},
   "outputs": [],
   "source": [
    "xl_list = glob.glob('C:/python_automation/02. 엑셀자동화/02. xlwings/data1/taxbill_data/*.xlsx')\n",
    "\n",
    "for xls in xl_list:\n",
    "    wb = xw.Book(xls)\n",
    "    ws = wb.sheets['자료입력페이지']\n",
    "    ws.range('C14').value = '2023-03-01'\n",
    "    wb.save(xls)\n",
    "    xw.apps.active.quit()\n",
    "\n"
   ]
  },
  {
   "cell_type": "code",
   "execution_count": null,
   "metadata": {},
   "outputs": [],
   "source": []
  }
 ],
 "metadata": {
  "kernelspec": {
   "display_name": "base",
   "language": "python",
   "name": "python3"
  },
  "language_info": {
   "codemirror_mode": {
    "name": "ipython",
    "version": 3
   },
   "file_extension": ".py",
   "mimetype": "text/x-python",
   "name": "python",
   "nbconvert_exporter": "python",
   "pygments_lexer": "ipython3",
   "version": "3.9.13"
  },
  "orig_nbformat": 4,
  "vscode": {
   "interpreter": {
    "hash": "a077222d77dfe082b8f1dd562ad70e458ac2ab76993a0b248ab0476e32e9e8dd"
   }
  }
 },
 "nbformat": 4,
 "nbformat_minor": 2
}
